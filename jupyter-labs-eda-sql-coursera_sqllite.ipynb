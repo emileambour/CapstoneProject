{
 "cells": [
  {
   "cell_type": "markdown",
   "metadata": {},
   "source": [
    "<p style=\"text-align:center\">\n",
    "    <a href=\"https://skills.network\" target=\"_blank\">\n",
    "    <img src=\"https://cf-courses-data.s3.us.cloud-object-storage.appdomain.cloud/assets/logos/SN_web_lightmode.png\" width=\"200\" alt=\"Skills Network Logo\">\n",
    "    </a>\n",
    "</p>\n",
    "\n",
    "<h1 align=center><font size = 5>Assignment: SQL Notebook for Peer Assignment</font></h1>\n",
    "\n",
    "Estimated time needed: **60** minutes.\n",
    "\n",
    "## Introduction\n",
    "Using this Python notebook you will:\n",
    "\n",
    "1.  Understand the Spacex DataSet\n",
    "2.  Load the dataset  into the corresponding table in a Db2 database\n",
    "3.  Execute SQL queries to answer assignment questions \n"
   ]
  },
  {
   "cell_type": "markdown",
   "metadata": {},
   "source": [
    "## Overview of the DataSet\n",
    "\n",
    "SpaceX has gained worldwide attention for a series of historic milestones. \n",
    "\n",
    "It is the only private company ever to return a spacecraft from low-earth orbit, which it first accomplished in December 2010.\n",
    "SpaceX advertises Falcon 9 rocket launches on its website with a cost of 62 million dollars wheras other providers cost upward of 165 million dollars each, much of the savings is because Space X can reuse the first stage. \n",
    "\n",
    "\n",
    "Therefore if we can determine if the first stage will land, we can determine the cost of a launch. \n",
    "\n",
    "This information can be used if an alternate company wants to bid against SpaceX for a rocket launch.\n",
    "\n",
    "This dataset includes a record for each payload carried during a SpaceX mission into outer space.\n"
   ]
  },
  {
   "cell_type": "markdown",
   "metadata": {},
   "source": [
    "### Download the datasets\n",
    "\n",
    "This assignment requires you to load the spacex dataset.\n",
    "\n",
    "In many cases the dataset to be analyzed is available as a .CSV (comma separated values) file, perhaps on the internet. Click on the link below to download and save the dataset (.CSV file):\n",
    "\n",
    " <a href=\"https://cf-courses-data.s3.us.cloud-object-storage.appdomain.cloud/IBM-DS0321EN-SkillsNetwork/labs/module_2/data/Spacex.csv\" target=\"_blank\">Spacex DataSet</a>\n",
    "\n"
   ]
  },
  {
   "cell_type": "code",
   "execution_count": 1,
   "metadata": {
    "tags": []
   },
   "outputs": [
    {
     "name": "stdout",
     "output_type": "stream",
     "text": [
      "Collecting sqlalchemy==1.3.9\n",
      "  Downloading SQLAlchemy-1.3.9.tar.gz (6.0 MB)\n",
      "\u001b[2K     \u001b[90m━━━━━━━━━━━━━━━━━━━━━━━━━━━━━━━━━━━━━━━━\u001b[0m \u001b[32m6.0/6.0 MB\u001b[0m \u001b[31m53.2 MB/s\u001b[0m eta \u001b[36m0:00:00\u001b[0m:00:01\u001b[0m0:01\u001b[0m\n",
      "\u001b[?25h  Preparing metadata (setup.py) ... \u001b[?25ldone\n",
      "\u001b[?25hBuilding wheels for collected packages: sqlalchemy\n",
      "  Building wheel for sqlalchemy (setup.py) ... \u001b[?25ldone\n",
      "\u001b[?25h  Created wheel for sqlalchemy: filename=SQLAlchemy-1.3.9-cp37-cp37m-linux_x86_64.whl size=1159121 sha256=9a04b84aff3733a6df9449a7c5a11dac6de74e1fbd19f2567c833b4bacbccf82\n",
      "  Stored in directory: /home/jupyterlab/.cache/pip/wheels/03/71/13/010faf12246f72dc76b4150e6e599d13a85b4435e06fb9e51f\n",
      "Successfully built sqlalchemy\n",
      "Installing collected packages: sqlalchemy\n",
      "  Attempting uninstall: sqlalchemy\n",
      "    Found existing installation: SQLAlchemy 1.3.24\n",
      "    Uninstalling SQLAlchemy-1.3.24:\n",
      "      Successfully uninstalled SQLAlchemy-1.3.24\n",
      "Successfully installed sqlalchemy-1.3.9\n"
     ]
    }
   ],
   "source": [
    "!pip install sqlalchemy==1.3.9\n"
   ]
  },
  {
   "cell_type": "markdown",
   "metadata": {},
   "source": [
    "### Connect to the database\n",
    "\n",
    "Let us first load the SQL extension and establish a connection with the database\n"
   ]
  },
  {
   "cell_type": "code",
   "execution_count": null,
   "metadata": {},
   "outputs": [],
   "source": [
    "#Please uncomment and execute the code below if you are working locally.\n",
    "\n",
    "#!pip install ipython-sql"
   ]
  },
  {
   "cell_type": "code",
   "execution_count": 2,
   "metadata": {
    "tags": []
   },
   "outputs": [],
   "source": [
    "%load_ext sql"
   ]
  },
  {
   "cell_type": "code",
   "execution_count": 3,
   "metadata": {
    "tags": []
   },
   "outputs": [],
   "source": [
    "import csv, sqlite3\n",
    "\n",
    "con = sqlite3.connect(\"my_data1.db\")\n",
    "cur = con.cursor()"
   ]
  },
  {
   "cell_type": "code",
   "execution_count": 4,
   "metadata": {
    "tags": []
   },
   "outputs": [],
   "source": [
    "!pip install -q pandas==1.1.5"
   ]
  },
  {
   "cell_type": "code",
   "execution_count": 5,
   "metadata": {
    "tags": []
   },
   "outputs": [
    {
     "data": {
      "text/plain": [
       "'Connected: @my_data1.db'"
      ]
     },
     "execution_count": 5,
     "metadata": {},
     "output_type": "execute_result"
    }
   ],
   "source": [
    "%sql sqlite:///my_data1.db"
   ]
  },
  {
   "cell_type": "code",
   "execution_count": 6,
   "metadata": {
    "tags": []
   },
   "outputs": [
    {
     "name": "stderr",
     "output_type": "stream",
     "text": [
      "/home/jupyterlab/conda/envs/python/lib/python3.7/site-packages/pandas/core/generic.py:2882: UserWarning: The spaces in these column names will not be changed. In pandas versions < 0.14, spaces were converted to underscores.\n",
      "  both result in 0.1234 being formatted as 0.12.\n"
     ]
    }
   ],
   "source": [
    "import pandas as pd\n",
    "df = pd.read_csv(\"https://cf-courses-data.s3.us.cloud-object-storage.appdomain.cloud/IBM-DS0321EN-SkillsNetwork/labs/module_2/data/Spacex.csv\")\n",
    "df.to_sql(\"SPACEXTBL\", con, if_exists='replace', index=False,method=\"multi\")"
   ]
  },
  {
   "cell_type": "markdown",
   "metadata": {},
   "source": [
    "**Note:This below code is added to remove blank rows from table**\n"
   ]
  },
  {
   "cell_type": "code",
   "execution_count": 7,
   "metadata": {
    "tags": []
   },
   "outputs": [
    {
     "name": "stdout",
     "output_type": "stream",
     "text": [
      " * sqlite:///my_data1.db\n",
      "Done.\n"
     ]
    },
    {
     "data": {
      "text/plain": [
       "[]"
      ]
     },
     "execution_count": 7,
     "metadata": {},
     "output_type": "execute_result"
    }
   ],
   "source": [
    "%sql create table SPACEXTABLE as select * from SPACEXTBL where Date is not null"
   ]
  },
  {
   "cell_type": "markdown",
   "metadata": {},
   "source": [
    "## Tasks\n",
    "\n",
    "Now write and execute SQL queries to solve the assignment tasks.\n",
    "\n",
    "**Note: If the column names are in mixed case enclose it in double quotes\n",
    "   For Example \"Landing_Outcome\"**\n",
    "\n",
    "### Task 1\n",
    "\n",
    "\n",
    "\n",
    "\n",
    "##### Display the names of the unique launch sites  in the space mission\n"
   ]
  },
  {
   "cell_type": "code",
   "execution_count": 9,
   "metadata": {
    "tags": []
   },
   "outputs": [
    {
     "name": "stdout",
     "output_type": "stream",
     "text": [
      "CCAFS LC-40\n",
      "VAFB SLC-4E\n",
      "KSC LC-39A\n",
      "CCAFS SLC-40\n"
     ]
    }
   ],
   "source": [
    "# Execute the SQL query to display unique launch sites\n",
    "query = \"\"\"\n",
    "SELECT DISTINCT \"Launch_Site\"\n",
    "FROM SPACEXTABLE;\n",
    "\"\"\"\n",
    "\n",
    "unique_launch_sites = pd.read_sql(query, con)\n",
    "# Print the unique launch sites\n",
    "for site in unique_launch_sites[\"Launch_Site\"]:\n",
    "    print(site)"
   ]
  },
  {
   "cell_type": "markdown",
   "metadata": {},
   "source": [
    "\n",
    "### Task 2\n",
    "\n",
    "\n",
    "#####  Display 5 records where launch sites begin with the string 'CCA' \n"
   ]
  },
  {
   "cell_type": "code",
   "execution_count": 11,
   "metadata": {
    "tags": []
   },
   "outputs": [
    {
     "name": "stdout",
     "output_type": "stream",
     "text": [
      "Date                                           2010-06-04\n",
      "Time (UTC)                                       18:45:00\n",
      "Booster_Version                            F9 v1.0  B0003\n",
      "Launch_Site                                   CCAFS LC-40\n",
      "Payload              Dragon Spacecraft Qualification Unit\n",
      "PAYLOAD_MASS__KG_                                       0\n",
      "Orbit                                                 LEO\n",
      "Customer                                           SpaceX\n",
      "Mission_Outcome                                   Success\n",
      "Landing_Outcome                       Failure (parachute)\n",
      "Name: 0, dtype: object\n",
      "\n",
      "Date                                                        2010-12-08\n",
      "Time (UTC)                                                    15:43:00\n",
      "Booster_Version                                         F9 v1.0  B0004\n",
      "Launch_Site                                                CCAFS LC-40\n",
      "Payload              Dragon demo flight C1, two CubeSats, barrel of...\n",
      "PAYLOAD_MASS__KG_                                                    0\n",
      "Orbit                                                        LEO (ISS)\n",
      "Customer                                               NASA (COTS) NRO\n",
      "Mission_Outcome                                                Success\n",
      "Landing_Outcome                                    Failure (parachute)\n",
      "Name: 1, dtype: object\n",
      "\n",
      "Date                            2012-05-22\n",
      "Time (UTC)                         7:44:00\n",
      "Booster_Version             F9 v1.0  B0005\n",
      "Launch_Site                    CCAFS LC-40\n",
      "Payload              Dragon demo flight C2\n",
      "PAYLOAD_MASS__KG_                      525\n",
      "Orbit                            LEO (ISS)\n",
      "Customer                       NASA (COTS)\n",
      "Mission_Outcome                    Success\n",
      "Landing_Outcome                 No attempt\n",
      "Name: 2, dtype: object\n",
      "\n",
      "Date                     2012-10-08\n",
      "Time (UTC)                  0:35:00\n",
      "Booster_Version      F9 v1.0  B0006\n",
      "Launch_Site             CCAFS LC-40\n",
      "Payload                SpaceX CRS-1\n",
      "PAYLOAD_MASS__KG_               500\n",
      "Orbit                     LEO (ISS)\n",
      "Customer                 NASA (CRS)\n",
      "Mission_Outcome             Success\n",
      "Landing_Outcome          No attempt\n",
      "Name: 3, dtype: object\n",
      "\n",
      "Date                     2013-03-01\n",
      "Time (UTC)                 15:10:00\n",
      "Booster_Version      F9 v1.0  B0007\n",
      "Launch_Site             CCAFS LC-40\n",
      "Payload                SpaceX CRS-2\n",
      "PAYLOAD_MASS__KG_               677\n",
      "Orbit                     LEO (ISS)\n",
      "Customer                 NASA (CRS)\n",
      "Mission_Outcome             Success\n",
      "Landing_Outcome          No attempt\n",
      "Name: 4, dtype: object\n",
      "\n"
     ]
    }
   ],
   "source": [
    "# Execute the SQL query to display 5 records where launch sites begin with 'CCA'\n",
    "query = \"\"\"\n",
    "SELECT *\n",
    "FROM SPACEXTABLE\n",
    "WHERE \"Launch_Site\" LIKE 'CCA%'\n",
    "LIMIT 5;\n",
    "\"\"\"\n",
    "\n",
    "# Fetch the records as a DataFrame\n",
    "records_with_CCA = pd.read_sql(query, con)\n",
    "\n",
    "# Print each record individually\n",
    "for index, row in records_with_CCA.iterrows():\n",
    "    print(row)\n",
    "    print()  # Add a blank line between records for clarity\n"
   ]
  },
  {
   "cell_type": "markdown",
   "metadata": {},
   "source": [
    "### Task 3\n",
    "\n",
    "\n",
    "\n",
    "\n",
    "##### Display the total payload mass carried by boosters launched by NASA (CRS)\n"
   ]
  },
  {
   "cell_type": "code",
   "execution_count": 15,
   "metadata": {
    "tags": []
   },
   "outputs": [
    {
     "name": "stdout",
     "output_type": "stream",
     "text": [
      "Total Payload Mass carried by NASA (CRS): 0.0 kg\n"
     ]
    }
   ],
   "source": [
    "# Execute the SQL query to calculate the total payload mass carried by boosters launched by NASA (CRS)\n",
    "query = \"\"\"\n",
    "SELECT SUM(\"PayloadMass\") AS Total_Payload_Mass\n",
    "FROM SPACEXTABLE\n",
    "WHERE \"Customer\" LIKE '%NASA (CRS)%';\n",
    "\"\"\"\n",
    "\n",
    "# Execute the query and fetch the result\n",
    "cur.execute(query)\n",
    "total_payload_mass = cur.fetchone()[0]\n",
    "\n",
    "# Print the total payload mass\n",
    "print(f\"Total Payload Mass carried by NASA (CRS): {total_payload_mass} kg\")\n"
   ]
  },
  {
   "cell_type": "markdown",
   "metadata": {},
   "source": [
    "### Task 4\n",
    "\n",
    "\n",
    "\n",
    "\n",
    "##### Display average payload mass carried by booster version F9 v1.1\n"
   ]
  },
  {
   "cell_type": "code",
   "execution_count": 17,
   "metadata": {
    "tags": []
   },
   "outputs": [
    {
     "name": "stdout",
     "output_type": "stream",
     "text": [
      "Average Payload Mass carried by booster version F9 v1.1: 0.0 kg\n"
     ]
    }
   ],
   "source": [
    "# Execute the SQL query to calculate the average payload mass carried by booster version F9 v1.1\n",
    "query = \"\"\"\n",
    "SELECT AVG(\"PayloadMass\") AS Average_Payload_Mass\n",
    "FROM SPACEXTABLE\n",
    "WHERE \"Booster_Version\" = 'F9 v1.1';\n",
    "\"\"\"\n",
    "\n",
    "# Execute the query and fetch the result\n",
    "cur.execute(query)\n",
    "average_payload_mass = cur.fetchone()[0]\n",
    "\n",
    "# Print the average payload mass\n",
    "print(f\"Average Payload Mass carried by booster version F9 v1.1: {average_payload_mass} kg\")\n"
   ]
  },
  {
   "cell_type": "markdown",
   "metadata": {},
   "source": [
    "### Task 5\n",
    "\n",
    "##### List the date when the first succesful landing outcome in ground pad was acheived.\n",
    "\n",
    "\n",
    "_Hint:Use min function_ \n"
   ]
  },
  {
   "cell_type": "code",
   "execution_count": 18,
   "metadata": {
    "tags": []
   },
   "outputs": [
    {
     "name": "stdout",
     "output_type": "stream",
     "text": [
      "Date of the first successful landing on ground pad: 2015-12-22\n"
     ]
    }
   ],
   "source": [
    "# Execute the SQL query to find the date of the first successful landing outcome on ground pad\n",
    "query = \"\"\"\n",
    "SELECT MIN(\"Date\") AS First_Successful_Landing_Date\n",
    "FROM SPACEXTABLE\n",
    "WHERE \"Landing_Outcome\" LIKE '%Success (ground pad)%';\n",
    "\"\"\"\n",
    "\n",
    "# Execute the query and fetch the result\n",
    "cur.execute(query)\n",
    "first_successful_landing_date = cur.fetchone()[0]\n",
    "\n",
    "# Print the first successful landing date\n",
    "print(f\"Date of the first successful landing on ground pad: {first_successful_landing_date}\")\n"
   ]
  },
  {
   "cell_type": "markdown",
   "metadata": {},
   "source": [
    "### Task 6\n",
    "\n",
    "##### List the names of the boosters which have success in drone ship and have payload mass greater than 4000 but less than 6000\n"
   ]
  },
  {
   "cell_type": "code",
   "execution_count": 24,
   "metadata": {
    "tags": []
   },
   "outputs": [
    {
     "name": "stdout",
     "output_type": "stream",
     "text": [
      "No boosters found with success in drone ship and payload mass between 4000 and 6000 kg.\n"
     ]
    }
   ],
   "source": [
    "# Execute the SQL query to list boosters with success in drone ship and payload mass between 4000 and 6000 kg\n",
    "query = \"\"\"\n",
    "SELECT DISTINCT \"Booster_Version\"\n",
    "FROM SPACEXTABLE\n",
    "WHERE \"Landing_Outcome\" LIKE '%Success (drone ship)%'\n",
    "    AND \"PayloadMass\" > 4000\n",
    "    AND \"PayloadMass\" < 6000;\n",
    "\"\"\"\n",
    "\n",
    "# Fetch the result from the database\n",
    "boosters_with_success_in_drone_ship = pd.read_sql(query, con)\n",
    "\n",
    "# Print the names of boosters\n",
    "if not boosters_with_success_in_drone_ship.empty:\n",
    "    for index, row in boosters_with_success_in_drone_ship.iterrows():\n",
    "        print(row[\"Booster_Version\"])\n",
    "else:\n",
    "    print(\"No boosters found with success in drone ship and payload mass between 4000 and 6000 kg.\")\n"
   ]
  },
  {
   "cell_type": "markdown",
   "metadata": {},
   "source": [
    "### Task 7\n",
    "\n",
    "\n",
    "\n",
    "\n",
    "##### List the total number of successful and failure mission outcomes\n"
   ]
  },
  {
   "cell_type": "code",
   "execution_count": 26,
   "metadata": {
    "tags": []
   },
   "outputs": [
    {
     "name": "stdout",
     "output_type": "stream",
     "text": [
      "Success: 98\n"
     ]
    }
   ],
   "source": [
    "# Execute the SQL query to count successful and failure mission outcomes\n",
    "query = \"\"\"\n",
    "SELECT \"Mission_Outcome\", COUNT(*) AS Total_Count\n",
    "FROM SPACEXTABLE\n",
    "WHERE \"Mission_Outcome\" IN ('Success', 'Failure')\n",
    "GROUP BY \"Mission_Outcome\";\n",
    "\"\"\"\n",
    "\n",
    "# Execute the query and fetch the result\n",
    "cur.execute(query)\n",
    "results = cur.fetchall()\n",
    "\n",
    "# Print the total count of successful and failure mission outcomes\n",
    "for result in results:\n",
    "    outcome = result[0]\n",
    "    count = result[1]\n",
    "    print(f\"{outcome}: {count}\")\n"
   ]
  },
  {
   "cell_type": "markdown",
   "metadata": {},
   "source": [
    "### Task 8\n",
    "\n",
    "\n",
    "\n",
    "##### List the   names of the booster_versions which have carried the maximum payload mass. Use a subquery\n"
   ]
  },
  {
   "cell_type": "code",
   "execution_count": 27,
   "metadata": {
    "tags": []
   },
   "outputs": [
    {
     "name": "stdout",
     "output_type": "stream",
     "text": [
      "F9 v1.0  B0003\n",
      "F9 v1.0  B0004\n",
      "F9 v1.0  B0005\n",
      "F9 v1.0  B0006\n",
      "F9 v1.0  B0007\n",
      "F9 v1.1  B1003\n",
      "F9 v1.1\n",
      "F9 v1.1\n",
      "F9 v1.1\n",
      "F9 v1.1\n",
      "F9 v1.1\n",
      "F9 v1.1 B1011\n",
      "F9 v1.1 B1010\n",
      "F9 v1.1 B1012\n",
      "F9 v1.1 B1013\n",
      "F9 v1.1 B1014\n",
      "F9 v1.1 B1015\n",
      "F9 v1.1 B1016\n",
      "F9 v1.1 B1018\n",
      "F9 FT B1019\n",
      "F9 v1.1 B1017\n",
      "F9 FT B1020\n",
      "F9 FT B1021.1\n",
      "F9 FT B1022\n",
      "F9 FT B1023.1\n",
      "F9 FT B1024\n",
      "F9 FT B1025.1\n",
      "F9 FT B1026\n",
      "F9 FT B1029.1\n",
      "F9 FT B1031.1\n",
      "F9 FT B1030\n",
      "F9 FT  B1021.2\n",
      "F9 FT B1032.1\n",
      "F9 FT B1034\n",
      "F9 FT B1035.1\n",
      "F9 FT  B1029.2\n",
      "F9 FT B1036.1\n",
      "F9 FT B1037\n",
      "F9 B4 B1039.1\n",
      "F9 FT B1038.1\n",
      "F9 B4 B1040.1\n",
      "F9 B4 B1041.1\n",
      "F9 FT  B1031.2\n",
      "F9 B4 B1042.1\n",
      "F9 FT  B1035.2\n",
      "F9 FT  B1036.2\n",
      "F9 B4 B1043.1\n",
      "F9 FT  B1032.2\n",
      "F9 FT  B1038.2\n",
      "F9 B4 B1044\n",
      "F9 B4  B1041.2\n",
      "F9 B4  B1039.2\n",
      "F9 B4 B1045.1\n",
      "F9 B5  B1046.1\n",
      "F9 B4  B1043.2\n",
      "F9 B4  B1040.2\n",
      "F9 B4 B1045.2\n",
      "F9 B5B1047.1\n",
      "F9 B5B1048.1\n",
      "F9 B5 B1046.2\n",
      "F9 B5B1049.1\n",
      "F9 B5 B1048.2\n",
      "F9 B5 B1047.2\n",
      "F9 B5 B1046.3\n",
      "F9 B5B1050\n",
      "F9 B5B1054\n",
      "F9 B5 B1049.2\n",
      "F9 B5 B1048.3\n",
      "F9 B5B1051.1\n",
      "F9 B5B1056.1 \n",
      "F9 B5 B1049.3\n",
      "F9 B5 B1051.2 \n",
      "F9 B5 B1056.2 \n",
      "F9 B5 B1047.3 \n",
      "F9 B5 B1048.4\n",
      "F9 B5B1059.1\n",
      "F9 B5 B1056.3 \n",
      "F9 B5 B1049.4\n",
      "F9 B5 B1046.4\n",
      "F9 B5 B1051.3\n",
      "F9 B5 B1056.4\n",
      "F9 B5 B1059.2\n",
      "F9 B5 B1048.5\n",
      "F9 B5 B1051.4\n",
      "F9 B5B1058.1 \n",
      "F9 B5 B1049.5\n",
      "F9 B5 B1059.3\n",
      "F9 B5B1060.1\n",
      "F9 B5 B1058.2 \n",
      "F9 B5 B1051.5\n",
      "F9 B5 B1049.6\n",
      "F9 B5 B1059.4\n",
      "F9 B5 B1060.2 \n",
      "F9 B5 B1058.3 \n",
      "F9 B5 B1051.6\n",
      "F9 B5 B1060.3\n",
      "F9 B5B1062.1\n",
      "F9 B5B1061.1 \n",
      "F9 B5B1063.1\n",
      "F9 B5 B1049.7 \n",
      "F9 B5 B1058.4 \n"
     ]
    }
   ],
   "source": [
    "# Execute the SQL query to find the names of booster_versions with maximum payload mass\n",
    "query = \"\"\"\n",
    "SELECT \"Booster_Version\"\n",
    "FROM SPACEXTABLE\n",
    "WHERE \"PayloadMass\" = (\n",
    "    SELECT MAX(\"PayloadMass\")\n",
    "    FROM SPACEXTABLE\n",
    ");\n",
    "\"\"\"\n",
    "\n",
    "# Fetch the result from the database\n",
    "booster_versions_max_payload = pd.read_sql(query, con)\n",
    "\n",
    "# Print the names of booster versions\n",
    "for index, row in booster_versions_max_payload.iterrows():\n",
    "    print(row[\"Booster_Version\"])\n"
   ]
  },
  {
   "cell_type": "markdown",
   "metadata": {},
   "source": [
    "### Task 9\n",
    "\n",
    "\n",
    "##### List the records which will display the month names, failure landing_outcomes in drone ship ,booster versions, launch_site for the months in year 2015.\n",
    "\n",
    "**Note: SQLLite does not support monthnames. So you need to use  substr(Date, 6,2) as month to get the months and substr(Date,0,5)='2015' for year.**\n"
   ]
  },
  {
   "cell_type": "code",
   "execution_count": 29,
   "metadata": {
    "tags": []
   },
   "outputs": [
    {
     "name": "stdout",
     "output_type": "stream",
     "text": [
      "('January', 'Failure (drone ship)', 'F9 v1.1 B1012', 'CCAFS LC-40')\n",
      "('April', 'Failure (drone ship)', 'F9 v1.1 B1015', 'CCAFS LC-40')\n"
     ]
    }
   ],
   "source": [
    "# Execute the SQL query to list records for failure landing outcomes in drone ship for months in year 2015\n",
    "query = \"\"\"\n",
    "SELECT \n",
    "    CASE SUBSTR(\"Date\", 6, 2)\n",
    "        WHEN '01' THEN 'January'\n",
    "        WHEN '02' THEN 'February'\n",
    "        WHEN '03' THEN 'March'\n",
    "        WHEN '04' THEN 'April'\n",
    "        WHEN '05' THEN 'May'\n",
    "        WHEN '06' THEN 'June'\n",
    "        WHEN '07' THEN 'July'\n",
    "        WHEN '08' THEN 'August'\n",
    "        WHEN '09' THEN 'September'\n",
    "        WHEN '10' THEN 'October'\n",
    "        WHEN '11' THEN 'November'\n",
    "        WHEN '12' THEN 'December'\n",
    "        ELSE 'Unknown Month'\n",
    "    END AS Month_Name,\n",
    "    \"Landing_Outcome\",\n",
    "    \"Booster_Version\",\n",
    "    \"Launch_Site\"\n",
    "FROM SPACEXTABLE\n",
    "WHERE SUBSTR(\"Date\", 0, 5) = '2015'\n",
    "    AND \"Landing_Outcome\" LIKE '%Failure (drone ship)%';\n",
    "\"\"\"\n",
    "\n",
    "# Execute the query and fetch the result\n",
    "cur.execute(query)\n",
    "records_2015_failures_drone_ship = cur.fetchall()\n",
    "\n",
    "# Print the records\n",
    "for record in records_2015_failures_drone_ship:\n",
    "    print(record)"
   ]
  },
  {
   "cell_type": "markdown",
   "metadata": {},
   "source": [
    "### Task 10\n",
    "\n",
    "\n",
    "\n",
    "\n",
    "##### Rank the count of landing outcomes (such as Failure (drone ship) or Success (ground pad)) between the date 2010-06-04 and 2017-03-20, in descending order.\n"
   ]
  },
  {
   "cell_type": "code",
   "execution_count": 31,
   "metadata": {
    "tags": []
   },
   "outputs": [
    {
     "name": "stdout",
     "output_type": "stream",
     "text": [
      "Failure (drone ship): 5\n",
      "Success (ground pad): 3\n"
     ]
    }
   ],
   "source": [
    "# Execute the SQL query to rank landing outcomes between specified dates\n",
    "query = \"\"\"\n",
    "SELECT \"Landing_Outcome\", COUNT(*) AS Outcome_Count\n",
    "FROM SPACEXTABLE\n",
    "WHERE \"Date\" BETWEEN '2010-06-04' AND '2017-03-20'\n",
    "    AND \"Landing_Outcome\" IN ('Failure (drone ship)', 'Success (ground pad)')\n",
    "GROUP BY \"Landing_Outcome\"\n",
    "ORDER BY Outcome_Count DESC;\n",
    "\"\"\"\n",
    "\n",
    "# Execute the query and fetch the result\n",
    "cur.execute(query)\n",
    "results = cur.fetchall()\n",
    "\n",
    "# Print the ranked outcomes\n",
    "for result in results:\n",
    "    print(f\"{result[0]}: {result[1]}\")\n"
   ]
  },
  {
   "cell_type": "markdown",
   "metadata": {},
   "source": [
    "### Reference Links\n",
    "\n",
    "* <a href =\"https://cf-courses-data.s3.us.cloud-object-storage.appdomain.cloud/IBMDeveloperSkillsNetwork-DB0201EN-SkillsNetwork/labs/Labs_Coursera_V5/labs/Lab%20-%20String%20Patterns%20-%20Sorting%20-%20Grouping/instructional-labs.md.html?origin=www.coursera.org\">Hands-on Lab : String Patterns, Sorting and Grouping</a>  \n",
    "\n",
    "*  <a  href=\"https://cf-courses-data.s3.us.cloud-object-storage.appdomain.cloud/IBMDeveloperSkillsNetwork-DB0201EN-SkillsNetwork/labs/Labs_Coursera_V5/labs/Lab%20-%20Built-in%20functions%20/Hands-on_Lab__Built-in_Functions.md.html?origin=www.coursera.org\">Hands-on Lab: Built-in functions</a>\n",
    "\n",
    "*  <a  href=\"https://cf-courses-data.s3.us.cloud-object-storage.appdomain.cloud/IBMDeveloperSkillsNetwork-DB0201EN-SkillsNetwork/labs/Labs_Coursera_V5/labs/Lab%20-%20Sub-queries%20and%20Nested%20SELECTs%20/instructional-labs.md.html?origin=www.coursera.org\">Hands-on Lab : Sub-queries and Nested SELECT Statements</a>\n",
    "\n",
    "*   <a href=\"https://cf-courses-data.s3.us.cloud-object-storage.appdomain.cloud/IBMDeveloperSkillsNetwork-DB0201EN-SkillsNetwork/labs/Module%205/DB0201EN-Week3-1-3-SQLmagic.ipynb\">Hands-on Tutorial: Accessing Databases with SQL magic</a>\n",
    "\n",
    "*  <a href= \"https://cf-courses-data.s3.us.cloud-object-storage.appdomain.cloud/IBMDeveloperSkillsNetwork-DB0201EN-SkillsNetwork/labs/Module%205/DB0201EN-Week3-1-4-Analyzing.ipynb\">Hands-on Lab: Analyzing a real World Data Set</a>\n",
    "\n",
    "\n"
   ]
  },
  {
   "cell_type": "markdown",
   "metadata": {},
   "source": [
    "## Author(s)\n",
    "\n",
    "<h4> Lakshmi Holla </h4>\n"
   ]
  },
  {
   "cell_type": "markdown",
   "metadata": {},
   "source": [
    "## Other Contributors\n",
    "\n",
    "<h4> Rav Ahuja </h4>\n"
   ]
  },
  {
   "cell_type": "markdown",
   "metadata": {},
   "source": [
    "## Change log\n",
    "| Date | Version | Changed by | Change Description |\n",
    "|------|--------|--------|---------|\n",
    "| 2021-07-09 | 0.2 |Lakshmi Holla | Changes made in magic sql|\n",
    "| 2021-05-20 | 0.1 |Lakshmi Holla | Created Initial Version |\n"
   ]
  },
  {
   "cell_type": "markdown",
   "metadata": {},
   "source": [
    "## <h3 align=\"center\"> © IBM Corporation 2021. All rights reserved. <h3/>\n"
   ]
  }
 ],
 "metadata": {
  "kernelspec": {
   "display_name": "Python",
   "language": "python",
   "name": "conda-env-python-py"
  },
  "language_info": {
   "codemirror_mode": {
    "name": "ipython",
    "version": 3
   },
   "file_extension": ".py",
   "mimetype": "text/x-python",
   "name": "python",
   "nbconvert_exporter": "python",
   "pygments_lexer": "ipython3",
   "version": "3.7.12"
  }
 },
 "nbformat": 4,
 "nbformat_minor": 4
}
